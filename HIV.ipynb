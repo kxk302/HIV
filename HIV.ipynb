{
  "nbformat": 4,
  "nbformat_minor": 0,
  "metadata": {
    "colab": {
      "name": "HIV",
      "provenance": [],
      "collapsed_sections": [],
      "include_colab_link": true
    },
    "kernelspec": {
      "name": "python3",
      "display_name": "Python 3"
    },
    "accelerator": "GPU"
  },
  "cells": [
    {
      "cell_type": "markdown",
      "metadata": {
        "id": "view-in-github",
        "colab_type": "text"
      },
      "source": [
        "<a href=\"https://colab.research.google.com/github/kxk302/HIV/blob/main/HIV.ipynb\" target=\"_parent\"><img src=\"https://colab.research.google.com/assets/colab-badge.svg\" alt=\"Open In Colab\"/></a>"
      ]
    },
    {
      "cell_type": "code",
      "metadata": {
        "id": "_JDt_5RMdjL7",
        "colab": {
          "base_uri": "https://localhost:8080/"
        },
        "outputId": "95e34a19-96e2-43a2-f4ba-a85b8b457fac"
      },
      "source": [
        "from google.colab import drive\n",
        "drive.mount('/content/gdrive')"
      ],
      "execution_count": 1,
      "outputs": [
        {
          "output_type": "stream",
          "text": [
            "Mounted at /content/gdrive\n"
          ],
          "name": "stdout"
        }
      ]
    },
    {
      "cell_type": "code",
      "metadata": {
        "id": "a0bkibi4dy-V",
        "colab": {
          "base_uri": "https://localhost:8080/"
        },
        "outputId": "a8d901b0-7f70-43a2-87d5-fa5a8e03d499"
      },
      "source": [
        "!ls '/content/gdrive/MyDrive/Colab Notebooks'"
      ],
      "execution_count": 15,
      "outputs": [
        {
          "output_type": "stream",
          "text": [
            "HIV  HIV_V3_codonmsa_macse_pre.tsv  MBA.ipynb\n"
          ],
          "name": "stdout"
        }
      ]
    },
    {
      "cell_type": "code",
      "metadata": {
        "id": "W8BTJgr3VIiP"
      },
      "source": [
        "import math\n",
        "\n",
        "import numpy as np\n",
        "import pandas as pd\n",
        "\n",
        "from mlxtend.frequent_patterns import apriori\n",
        "from mlxtend.frequent_patterns import association_rules\n",
        "\n",
        "# Create a string representing nucleotide plus position\n",
        "# Pivot the data so we have all sample strings on a single line\n",
        "#\n",
        "def preprocess_input_file(df_in):\n",
        "  if df_in is None or df_in.shape[0] == 0:\n",
        "    return df_in\n",
        "  \n",
        "  df = df_in.copy()\n",
        "\n",
        "  # Create a new column called 'Label', which is a string concatentation of Nucleotide and Position values. \n",
        "  df[\"Label\"] = df[\"Nucleotide\"].astype(str) + df[\"Position\"].astype(str)\n",
        "\n",
        "  # We do not need Nucleotide, and Position columns anymore\n",
        "  df = df[[\"Sample\", \"Label\"]]\n",
        "  \n",
        "  # Add a new column called 'Value', prepopulated with 1\n",
        "  df[\"Value\"] = 1\n",
        "\n",
        "  df = pd.pivot_table(df, index=\"Sample\", columns=\"Label\", values=\"Value\")\n",
        "\n",
        "  # Set all data frame nan (not a number) values to 0\n",
        "  df = df.fillna(0)\n",
        "\n",
        "  # Convert all data framevalues to integer\n",
        "  df = df.astype(int) \n",
        "\n",
        "  return df"
      ],
      "execution_count": 26,
      "outputs": []
    },
    {
      "cell_type": "code",
      "metadata": {
        "id": "-VubP1ctVUsc"
      },
      "source": [
        "def get_association_rules(in_file, min_support=0.20, \n",
        "                          min_confidence=0.80, min_lift=1.0, \n",
        "                          min_conviction=1.0, max_len=None):\n",
        "  \n",
        "  # Read the input file and pick the needed columns\n",
        "  df_in = pd.read_csv(in_file, sep='\\t')[['Sample', 'Nucleotide', 'Position']]\n",
        "\n",
        "  # Preprocess the data frame\n",
        "  df = preprocess_input_file(df_in)\n",
        "\n",
        "  # Get frequent item sets, with support larger than min_support, using Apriori algorithm\n",
        "  frequent_itemsets = apriori(df, min_support=min_support, use_colnames=True, max_len=max_len)\n",
        "\n",
        "  # Get association rules, with lift larger than min_lift  \n",
        "  rules = association_rules(frequent_itemsets, metric=\"lift\", min_threshold=min_lift)\n",
        "\n",
        "  # Filter association rules, keeping rules with confidence larger than min_confidence\n",
        "  rules = rules[ (rules['confidence'] >= min_confidence) & (rules['conviction'] >= min_conviction) ]\n",
        "\n",
        "  return rules\n",
        "\n",
        "def get_association_rules_param(param_dict):\n",
        "  in_file = param_dict.get('in_file', None)\n",
        "  min_support = param_dict.get('min_support', 0.20)\n",
        "  min_confidence = param_dict.get('min_confidence', 0.80)\n",
        "  min_lift = param_dict.get('min_lift', 1.0)\n",
        "  min_conviction = param_dict.get('min_conviction', 1.0)\n",
        "  max_len = param_dict.get('max_len', None)\n",
        "\n",
        "  return get_association_rules(in_file, min_support, \n",
        "                               min_confidence, min_lift, \n",
        "                               min_conviction, max_len)"
      ],
      "execution_count": 27,
      "outputs": []
    },
    {
      "cell_type": "code",
      "metadata": {
        "id": "F5erF_k0uKLI",
        "colab": {
          "base_uri": "https://localhost:8080/"
        },
        "outputId": "e7c30264-a987-4e4b-9976-0c00ee0991ef"
      },
      "source": [
        "pd.set_option('max_columns', 10, 'display.expand_frame_repr', False)\n",
        "pd.set_option('display.max_colwidth', None)\n",
        "\n",
        "param_dict = {  \n",
        "    \"in_file\": \"https://raw.githubusercontent.com/kxk302/HIV/main/data/HIV_V3_codonmsa_macse_pre.tsv\",\n",
        "    \"min_support\": 0.050, \n",
        "    \"min_confidence\": 0.800, \n",
        "    \"min_lift\": 2.0, \n",
        "    \"min_conviction\": 2.0, \n",
        "    \"max_len\": 3\n",
        "}\n",
        "\n",
        "hiv_rules = get_association_rules_param(param_dict)\n",
        "num_rules = hiv_rules.shape[0]\n",
        "print('Number of rules: {}'.format(num_rules))\n",
        "print('HIV dataset association rules: ')\n",
        "print(hiv_rules.head(num_rules))\n"
      ],
      "execution_count": 28,
      "outputs": [
        {
          "output_type": "stream",
          "text": [
            "Number of rules: 586\n",
            "HIV dataset association rules: \n",
            "     antecedents consequents  antecedent support  consequent support   support  confidence      lift  leverage  conviction\n",
            "10         (A84)       (G52)            0.185841            0.328171  0.151917    0.817460  2.490958  0.090930    3.680454\n",
            "14         (C13)       (T12)            0.085546            0.169617  0.076696    0.896552  5.285757  0.062186    8.027040\n",
            "20         (C46)       (T45)            0.487463            0.485988  0.485251    0.995461  2.048324  0.248349  113.253933\n",
            "21         (T45)       (C46)            0.485988            0.487463  0.485251    0.998483  2.048324  0.248349  337.761799\n",
            "23         (C49)       (T12)            0.067109            0.169617  0.058260    0.868132  5.118204  0.046877    6.297075\n",
            "...          ...         ...                 ...                 ...       ...         ...       ...       ...         ...\n",
            "2764  (G13, T45)       (G12)            0.073746            0.121681  0.058997    0.800000  6.574545  0.050023    4.391593\n",
            "2765  (G12, T45)       (G13)            0.063422            0.152655  0.058997    0.930233  6.093697  0.049315   12.145280\n",
            "2769  (G12, T49)       (G13)            0.121681            0.152655  0.112832    0.927273  6.074308  0.094257   11.650996\n",
            "2771       (G12)  (G13, T49)            0.121681            0.151917  0.112832    0.927273  6.103795  0.094346   11.661136\n",
            "2905  (T45, G48)       (G52)            0.101770            0.328171  0.089233    0.876812  2.671812  0.055835    5.453670\n",
            "\n",
            "[586 rows x 9 columns]\n"
          ],
          "name": "stdout"
        }
      ]
    }
  ]
}